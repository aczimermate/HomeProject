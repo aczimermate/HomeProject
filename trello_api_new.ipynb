{
 "nbformat": 4,
 "nbformat_minor": 2,
 "metadata": {
  "language_info": {
   "name": "python",
   "codemirror_mode": {
    "name": "ipython",
    "version": 3
   }
  },
  "orig_nbformat": 2,
  "file_extension": ".py",
  "mimetype": "text/x-python",
  "name": "python",
  "npconvert_exporter": "python",
  "pygments_lexer": "ipython3",
  "version": 3
 },
 "cells": [
  {
   "cell_type": "markdown",
   "execution_count": null,
   "metadata": {},
   "outputs": [],
   "source": [
    "Using Trello API for scraping data and loading it to csv files "
   ]
  },
  {
   "cell_type": "code",
   "execution_count": 2,
   "metadata": {},
   "outputs": [],
   "source": [
    "# PACKAGES\n",
    "from trello import TrelloClient\n",
    "import pandas as pd\n",
    "import csv\n",
    "from datetime import date"
   ]
  },
  {
   "cell_type": "code",
   "execution_count": 3,
   "metadata": {},
   "outputs": [],
   "source": [
    "# TRELLO API CONNECTION\n",
    "client = TrelloClient(\n",
    "    api_key='67f3ec25de74237ab2268e7b0f23057a',\n",
    "    api_secret='A63b2472afdbe2211a8ddf22a20692e3bef0e30b2f9ae29d992fd6021d7d77e0',\n",
    "    token='6e77a1c0f96fd81a6cd838ba34ea8bfa6efd8a6a0de17fd820b4bd7ad25af2c5'\n",
    ")"
   ]
  },
  {
   "cell_type": "markdown",
   "execution_count": null,
   "metadata": {},
   "outputs": [],
   "source": [
    "Let's use the connection to get data from Trello!"
   ]
  },
  {
   "cell_type": "code",
   "execution_count": 4,
   "metadata": {},
   "outputs": [
    {
     "name": "stdout",
     "output_type": "stream",
     "text": "Workflow DEV\n"
    }
   ],
   "source": [
    "# GET TRELLO DATA\n",
    "all_boards = client.list_boards()\n",
    "dev_board = all_boards[-1]\n",
    "print(dev_board.name)"
   ]
  },
  {
   "cell_type": "code",
   "execution_count": 5,
   "metadata": {},
   "outputs": [],
   "source": [
    "# Create generator object for the list of the DEV board\n",
    "dev_lists = (str(item) for item in list(dev_board.list_lists()))"
   ]
  },
  {
   "cell_type": "code",
   "execution_count": 6,
   "metadata": {},
   "outputs": [
    {
     "name": "stdout",
     "output_type": "stream",
     "text": "<List Backlog>\n<List Blocked>\n<List Development>\n<List Bugfix>\n<List Small CR>\n<List DEV Support>\n<List DEV QA>\n<List Package checking>\n<List UAT INSTALL alatt>\n<List Installment>\n<List UAT Install>\n<List UAT Developer Test>\n<List UAT Analyst Test>\n<List UAT User Test>\n<List Test>\n<List Release Lock>\n<List UAT Finished>\n<List PROD INSTALL alatt>\n<List PROD Developer Test>\n<List Prod Test>\n<List Closed>\n"
    }
   ],
   "source": [
    "# Now, let's print the values the generator dev_lists is holding\n",
    "for item in dev_lists:\n",
    "    print(item)"
   ]
  },
  {
   "cell_type": "markdown",
   "execution_count": null,
   "metadata": {},
   "outputs": [],
   "source": [
    "Check out what we have about cards!"
   ]
  },
  {
   "cell_type": "code",
   "execution_count": 7,
   "metadata": {},
   "outputs": [
    {
     "name": "stdout",
     "output_type": "stream",
     "text": "BIDWHDEV-XXXX\n[]\n5d831cd7b049d33277f96d8d\nBIDWHDEV-XXXX\n['5d831835808145195c95f1a0', '526d0007f28467086c00386a', '5d83181837b3833746dce248']\n5d831cd7b049d33277f96d8d\nBIDWHDEV-XXXX - HOTFIX\n[]\n5d831cd7b049d33277f96d8d\nBIDWHDEV-4582\n['5d83181837b3833746dce248']\n5d831cd7b049d33277f96d8d\nBIDWHDEV-4446\n['5d831835808145195c95f1a0', '526d0007f28467086c00386a', '5d83181837b3833746dce248']\n5d831f7c5262465dd4e3b8ca\nBIDWHDEV-4580\n['5d83181837b3833746dce248', '5d831835808145195c95f1a0']\n5d831f7c5262465dd4e3b8ca\nBIDWHDEV-4054\n['5d831835808145195c95f1a0', '5d83181837b3833746dce248']\n5d831f3ac7ffb131e397410e\nBIDWHDEV-3478\n['5d831835808145195c95f1a0', '526d0007f28467086c00386a', '5d83181837b3833746dce248']\n5d9c99c37e6ca96e94bfd03c\nBIDWHDEV-3837\n['5d83181837b3833746dce248', '5d831835808145195c95f1a0']\n5d9c99c37e6ca96e94bfd03c\nBIDWHDEV-4658\n['5d831835808145195c95f1a0', '5d83181837b3833746dce248']\n5d831dcc9fdc1521fd5e57a0\nBIDWHDEV-4497\n['5d83181837b3833746dce248', '5d831835808145195c95f1a0']\n5d831dcc9fdc1521fd5e57a0\nBIDWHDEV-4680 HOTFIX\n['5d831835808145195c95f1a0', '5d83181837b3833746dce248']\n5d84ac73bbce6e5405ec5323\nBIDWHDEV-4682 - HOTFIX\n['5d83181837b3833746dce248', '5d831835808145195c95f1a0']\n5d84ac73bbce6e5405ec5323\nBIDWHDEV-4621 HOTFIX\n['5d83181837b3833746dce248', '5d831835808145195c95f1a0']\n5d84ac73bbce6e5405ec5323\nBIDWHDEV-4511\n['5d83181837b3833746dce248', '5d831835808145195c95f1a0']\n5d84ac73bbce6e5405ec5323\nBIDWHDEV-4618 HOTFIX\n['5d83181837b3833746dce248', '5d831835808145195c95f1a0']\n5d84ac73bbce6e5405ec5323\nBIDWHDEV-4660\n['5d83181837b3833746dce248', '5d831835808145195c95f1a0']\n5d84ac73bbce6e5405ec5323\nBIDWHDEV-4571\n['5d831835808145195c95f1a0', '526d0007f28467086c00386a', '5d83181837b3833746dce248']\n5d831d8f36f3882376caccf6\nBIDWHDEV-4623\n['5d831835808145195c95f1a0', '5d83181837b3833746dce248', '526d0007f28467086c00386a']\n5d831d8f36f3882376caccf6\nBIDWHDEV-4111\n['5d831835808145195c95f1a0', '5d83181837b3833746dce248']\n5d831d8f36f3882376caccf6\nBIDWHDEV-3464\n['5d83181837b3833746dce248', '5d831835808145195c95f1a0']\n5d834f4082bf437cfeb65aef\nBIDWHDEV-4202\n[]\n5d834f4082bf437cfeb65aef\nBIDWHDEV-4585 HOTFIX\n['5d831835808145195c95f1a0', '526d0007f28467086c00386a', '5d83181837b3833746dce248']\n5d834f4082bf437cfeb65aef\nBIDWHDEV-4068\n['5d83181837b3833746dce248', '5d831835808145195c95f1a0']\n5d834f4082bf437cfeb65aef\nBIDWHDEV-3390\n['5d83181837b3833746dce248', '526d0007f28467086c00386a', '5d831835808145195c95f1a0']\n5d834f4082bf437cfeb65aef\nBIDWHDEV-3371\n['5d831835808145195c95f1a0', '526d0007f28467086c00386a', '5d83181837b3833746dce248']\n5d834f4082bf437cfeb65aef\nBIDWHDEV-3384\n['5d83181837b3833746dce248', '5d831835808145195c95f1a0']\n5d831d7727dd5e801d40fc03\nBIDWHDEV-4311\n['5d831835808145195c95f1a0', '5d83181837b3833746dce248']\n5d84ac9761ad562821164fb4\nBIDWHDEV-4204\n['5d83181837b3833746dce248', '5d831835808145195c95f1a0']\n5d84ac9761ad562821164fb4\nBIDWHDEV-4559\n['5d831835808145195c95f1a0']\n5d84ac9761ad562821164fb4\nBIDWHDEV-4620 HOTFIX\n['5d831835808145195c95f1a0', '5d83181837b3833746dce248']\n5d84ac9761ad562821164fb4\nBIDWHDEV-4651 HOTFIX\n['5d831835808145195c95f1a0', '5d83181837b3833746dce248']\n5d84ac9761ad562821164fb4\nBIDWHDEV-3472\n['5d831835808145195c95f1a0', '526d0007f28467086c00386a', '5d83181837b3833746dce248']\n5d84ac9761ad562821164fb4\nBIDWHDEV-3343\n['5d831835808145195c95f1a0', '5d83181837b3833746dce248']\n5d84ac9761ad562821164fb4\nBIDWHDEV-3779\n['5d831835808145195c95f1a0', '5d83181837b3833746dce248']\n5d84ac9761ad562821164fb4\nBIDWHDEV-3473\n['5d831835808145195c95f1a0', '526d0007f28467086c00386a', '5d83181837b3833746dce248']\n5d84ac9761ad562821164fb4\nBIDWHDEV-3272\n['5d831835808145195c95f1a0', '5d83181837b3833746dce248']\n5d84ac9761ad562821164fb4\nBIDWHDEV-3766\n['5d831835808145195c95f1a0', '5d83181837b3833746dce248']\n5d84ac9761ad562821164fb4\nBIDWHDEV-4212\n['5d83181837b3833746dce248', '5d831835808145195c95f1a0']\n5d84ac9761ad562821164fb4\nBIDWHDEV-4201\n[]\n5d84ac9761ad562821164fb4\nBIDWHDEV-4202\n['5d831835808145195c95f1a0', '526d0007f28467086c00386a', '5d83181837b3833746dce248']\n5d84ac9761ad562821164fb4\nBIDWHDEV-4213\n['5d831835808145195c95f1a0', '526d0007f28467086c00386a', '5d83181837b3833746dce248']\n5d84ac9761ad562821164fb4\nBIDWHDEV-4214\n['5d831835808145195c95f1a0', '5d83181837b3833746dce248']\n5d84ac9761ad562821164fb4\nBIDWHDEV-4128\n['5d83181837b3833746dce248', '5d831835808145195c95f1a0']\n5d84ac9761ad562821164fb4\nBIDWHDEV-4031\n['5d83181837b3833746dce248', '5d831835808145195c95f1a0']\n5d84ac9761ad562821164fb4\nBIDWHDEV-4334\n['5d831835808145195c95f1a0', '526d0007f28467086c00386a', '5d83181837b3833746dce248']\n5d84ac9761ad562821164fb4\nBIDWHDEV-3568\n['5d83181837b3833746dce248']\n5d84ac9761ad562821164fb4\nBIDWHDEV-4669 HOTFIX\n['5d83181837b3833746dce248', '5d831835808145195c95f1a0']\n5d835bc64338857ad07eb092\nBIDWHDEV-4668 HOTFIX\n['5d83181837b3833746dce248', '5d831835808145195c95f1a0']\n5d835bc64338857ad07eb092\nBIDWHDEV-4653 HOTFIX\n['5d83181837b3833746dce248', '5d831835808145195c95f1a0']\n5d835bc64338857ad07eb092\nBIDWHDEV-4528\n['5d831835808145195c95f1a0', '526d0007f28467086c00386a', '5d83181837b3833746dce248']\n5d835bc64338857ad07eb092\nBIDWHDEV-4487\n['5d831835808145195c95f1a0', '5d83181837b3833746dce248']\n5d835bc64338857ad07eb092\nBIDWHDEV-4616 HOTFIX\n['5d83181837b3833746dce248', '5d831835808145195c95f1a0']\n5d835bc64338857ad07eb092\nBIDWHDEV-3812\n['5d831835808145195c95f1a0', '5d83181837b3833746dce248']\n5d835bc64338857ad07eb092\nBIDWHDEV-4549\n['5d83181837b3833746dce248', '5d831835808145195c95f1a0']\n5d835bc64338857ad07eb092\nBIDWHDEV-3355\n['5d831835808145195c95f1a0']\n5d835bc64338857ad07eb092\nBIDWHDEV-3335\n['5d831835808145195c95f1a0']\n5d835bc64338857ad07eb092\nBIDWHDEV-3297\n['5d831835808145195c95f1a0']\n5d835bc64338857ad07eb092\nBIDWHDEV-3296\n['5d831835808145195c95f1a0']\n5d835bc64338857ad07eb092\nBIDWHDEV-3208\n['5d83181837b3833746dce248', '5d831835808145195c95f1a0']\n5d835bc64338857ad07eb092\nBIDWHDEV-4054\n['5d831835808145195c95f1a0', '5d83181837b3833746dce248']\n5d835bc64338857ad07eb092\nBIDWHDEV-4307\n['5d831835808145195c95f1a0', '526d0007f28467086c00386a', '5d83181837b3833746dce248']\n5d835bc64338857ad07eb092\nBIDWHDEV-4393\n[]\n5d835bc64338857ad07eb092\nBIDWHDEV-4221\n['5d831835808145195c95f1a0', '526d0007f28467086c00386a', '5d83181837b3833746dce248']\n5d835bc64338857ad07eb092\nBIDWHDEV-4059\n['5d831835808145195c95f1a0', '526d0007f28467086c00386a', '5d83181837b3833746dce248']\n5d835bc64338857ad07eb092\nBIDWHDEV-4053\n['5d831835808145195c95f1a0', '526d0007f28467086c00386a', '5d83181837b3833746dce248']\n5d835bc64338857ad07eb092\nBIDWHDEV-3397\n[]\n5d835bc64338857ad07eb092\nBIDWHDEV-4129\n['5d83181837b3833746dce248', '5d831835808145195c95f1a0']\n5d835bc64338857ad07eb092\nBIDWHDEV-3957\n['5d83181837b3833746dce248', '526d0007f28467086c00386a', '5d831835808145195c95f1a0']\n5d831cd7b049d33277f96d8f\nBIDWHDEV-4525 HOTFIX\n['5d831835808145195c95f1a0', '526d0007f28467086c00386a', '5d83181837b3833746dce248']\n5d831cd7b049d33277f96d8f\n"
    }
   ],
   "source": [
    "dev_cards = dev_board.all_cards()\n",
    "for card in dev_cards:\n",
    "    print(card.name)\n",
    " #   print(card.checklists)\n",
    "    print(card.member_id)\n",
    "    print(card.list_id)"
   ]
  },
  {
   "cell_type": "markdown",
   "execution_count": null,
   "metadata": {},
   "outputs": [],
   "source": [
    "Checklists:"
   ]
  },
  {
   "cell_type": "code",
   "execution_count": 8,
   "metadata": {},
   "outputs": [],
   "source": [
    "dev_checklists = dev_board.get_checklists()\n",
    "# checklist_generator = (dev_checklists.get_checkItem(checklistid = item) for item in dev_checklists)\n",
    "checklist_generator = (str(item)[11:-1] for item in dev_checklists)"
   ]
  },
  {
   "cell_type": "code",
   "execution_count": 9,
   "metadata": {},
   "outputs": [
    {
     "name": "stdout",
     "output_type": "stream",
     "text": "5d92e634ee1e882a6282984e\n5d96dfacf568e17d6640679e\n5d972ea8f29b4e6aaa8db79f\n5d9c407399ad9628d0022a57\n5d9d9a05c9a54d501141c774\n5d9db4b7e96f71313cdde44e\n5da427809f1a0852aee59fc7\n5da4620682884013f949f9e6\n5da5b8ae8351bd4f0f364c21\n5dad70f122f5246b49811f2b\n5dad9d0a3f3c91724ecfd81d\n5dada3559ca9a00e964053a4\n5dadb09e2a76524dc5b732cc\n5db18bbb40c5500246c25607\n5db2868e230c196ed904a2e7\n5db2be48c8be190b07ac3683\n5db2be5237f39340362785c2\n5db932f94a9ba572c21335f9\n5db948a87567a016ffd283f5\n5db9857caa65f0171a6c7ae5\n5db9860656e4493ab73de513\n5d832bb6d472dd1aa46f8e7b\n5d8344ff734bbb8d1479a5ff\n5d8aff969e61b82abb041feb\n5d8c76581703d02929963bc9\n5d83512817f71f23b80a10a7\n5d8351f75137763a59133ec5\n5d838843e7652d3219143c36\n5d846ad6a2716e570a2b61dc\n5d846b76c7e234695a87c85b\n5d846b8821944237b8b349ec\n5d846b93bf5ab037bfca9b3d\n5d84842fcd515929b0f8f3d5\n5d84ad6de9fe4084262cd635\n5d84b25575791b1353d49437\n5d84b519362bc94a05698295\n5d84c87a2793890e92189bcf\n5d84deac62329a384bfd17dd\n5d84def02af544108f62ea55\n5d889ae8c636064eb653c565\n5d889e89e8b1d659a535b2dd\n5d88a1d342b12a495e54dc8d\n5d88a436ef76f81e25074706\n5d88a4ce373e7a57157be600\n5d88bb943087c20299b0d387\n5d88bf0e1d896c3392a11d67\n5d89d407e6c24389a2af77e3\n5d8b50c01d318f5b63803082\n5d8b51dbc947310f6fa21ce5\n5d8b52e89729731ef3011865\n5dba87844e9837764c18b8b2\n5dbfea64a8141b88498e9d5c\n5dc019ae4ed02d62aed16506\n5dc026c6f454d77cf8318904\n5dc15e93b552d030b62d4a4f\n5dc16c9881931c3ffdadf68a\n5dc27235b2234469c0c67937\n5dc280188a78933e550a54a9\n5dc2bd505c2afc39cd631de9\n5dc2c6537db160418394b269\n5d8b539deab82c2a51bd2814\n5d8b579d279af14d793bbc20\n5d8b594dd705664e919624d5\n5d8b59e419692508bdb73ec2\n5d8b5a6d5c47961ad09f4edd\n5d9196cbbfd44e0f4d8cf703\n5d943746ca8a1f7a8d613da3\n5d944c9ea24044614b9980c9\n5d9332182e2dc10a9c6e8010\n5d92e634ee1e882a62829858\n5d96dfacf568e17d664067a8\n5d972ea8f29b4e6aaa8db7a9\n5d9c407399ad9628d0022a61\n5d9d9a05c9a54d501141c77e\n5d9db4b7e96f71313cdde458\n5da427809f1a0852aee59fd1\n5da4620682884013f949f9f0\n5da5b8ae8351bd4f0f364c2b\n5dad70f122f5246b49811f37\n5dad9d0a3f3c91724ecfd827\n5dada3559ca9a00e964053b0\n5dadb09e2a76524dc5b732d2\n5db18bbb40c5500246c25613\n5db2868e230c196ed904a2f3\n5db2be48c8be190b07ac368f\n5db2be5237f39340362785ce\n5db932f94a9ba572c2133605\n5db948a87567a016ffd28401\n5db9857caa65f0171a6c7af1\n5d832bc25473c55c30450a64\n5d833f80e84a066f83bb55dd\n5d8344ff734bbb8d1479a60b\n5d8aff969e61b82abb041ff5\n5d8c76581703d02929963bd3\n5d83512817f71f23b80a10b3\n5d8351f75137763a59133ed1\n5d838843e7652d3219143c3c\n5d846ad6a2716e570a2b61e2\n5d846b76c7e234695a87c861\n5d846b8821944237b8b349f2\n5d846b93bf5ab037bfca9b43\n5d84842fcd515929b0f8f3db\n5d84b25575791b1353d49441\n5d84b519362bc94a0569829f\n5d84c87a2793890e92189bd9\n5d84deac62329a384bfd17e3\n5d84def02af544108f62ea5f\n5d889ae8c636064eb653c56f\n5d889e89e8b1d659a535b2e7\n5d88a1d342b12a495e54dc97\n5d88a436ef76f81e25074710\n5d88a4ce373e7a57157be60a\n5d88bb943087c20299b0d391\n5d88bf0e1d896c3392a11d71\n5d89d407e6c24389a2af77ed\n5d8b50c01d318f5b6380308c\n5d8b51dbc947310f6fa21cef\n5d8b52e89729731ef301186f\n5db9860656e4493ab73de519\n5dba87844e9837764c18b8be\n5dbfea64a8141b88498e9d68\n5dc019ae4ed02d62aed16512\n5dc026c6f454d77cf8318910\n5dc15e93b552d030b62d4a5b\n5dc16c9881931c3ffdadf696\n5dc27235b2234469c0c67943\n5dc280188a78933e550a54b5\n5dc2bd505c2afc39cd631df1\n5dc2c6537db160418394b275\n5d8b579d279af14d793bbc2a\n5d8b594dd705664e919624df\n5d8b59e419692508bdb73ec8\n5d8b5a6d5c47961ad09f4ee5\n5d9196cbbfd44e0f4d8cf70d\n5d943746ca8a1f7a8d613dad\n5d944c9ea24044614b9980d3\n5d970f5929aa828c709e976f\n5d9c256e3a61251fe7b623f4\n5d92e634ee1e882a6282986a\n5d96dfacf568e17d664067ba\n5d972ea8f29b4e6aaa8db7bb\n5d9c407399ad9628d0022a73\n5d9d9a05c9a54d501141c790\n5d9db4b7e96f71313cdde46a\n5da427809f1a0852aee59fe3\n5da4620682884013f949fa02\n5da5b8ae8351bd4f0f364c3d\n5dad70f122f5246b49811f49\n5dad9d0a3f3c91724ecfd833\n5dada3559ca9a00e964053c2\n5dadb09e2a76524dc5b732dc\n5db18bbb40c5500246c25625\n5db2868e230c196ed904a305\n5db2be48c8be190b07ac36a1\n5db2be5237f39340362785e0\n5db932f94a9ba572c2133617\n5db948a87567a016ffd28413\n5db9857caa65f0171a6c7b03\n5d832bc8a54b12677d8bdc9c\n5d8344ff734bbb8d1479a613\n5d89bd045b6b1d528c77b8cb\n5d8aff969e61b82abb042007\n5d8daf697d4e213f4f5409e2\n5d838843e7652d3219143c40\n5d846ad6a2716e570a2b61e6\n5d846b76c7e234695a87c865\n5d846b8821944237b8b349f6\n5d846b93bf5ab037bfca9b47\n5d84842fcd515929b0f8f3df\n5d84b25575791b1353d49449\n5d84b519362bc94a056982a7\n5d84c87a2793890e92189be1\n5d84deac62329a384bfd17e7\n5d889ae8c636064eb653c581\n5d889e89e8b1d659a535b2f9\n5d88a1d342b12a495e54dca9\n5d88a436ef76f81e25074722\n5d88a4ce373e7a57157be61c\n5d88bb943087c20299b0d3a3\n5d88bf0e1d896c3392a11d83\n5d89d407e6c24389a2af77ff\n5d8b50c01d318f5b6380309e\n5d8b51dbc947310f6fa21d01\n5d8b52e89729731ef3011881\n5db9860656e4493ab73de523\n5dba87844e9837764c18b8d0\n5dbfea64a8141b88498e9d7a\n5dc019ae4ed02d62aed16524\n5dc026c6f454d77cf8318922\n5dc15e93b552d030b62d4a6d\n5dc16c9881931c3ffdadf6a8\n5dc27235b2234469c0c67955\n5dc280188a78933e550a54c7\n5dc2bd505c2afc39cd631e01\n5dc2c6537db160418394b287\n5d8b539deab82c2a51bd2826\n5d8b579d279af14d793bbc3c\n5d8b594dd705664e919624f1\n5d8b59e419692508bdb73eda\n5d8b5a6d5c47961ad09f4ef7\n5d9196cbbfd44e0f4d8cf71f\n5d943746ca8a1f7a8d613dbf\n5d944c9ea24044614b9980e5\n5d96dc991ec46472cf63ebc7\n5d9c25a559972b623d155b33\n5d8dc6225a876e24bfe90561\n5da0898689cd7b156a36b6bc\n5da089a8ad77c27e7243bcec\n5d92e634ee1e882a62829882\n5d96dfacf568e17d664067d2\n5d972ea8f29b4e6aaa8db7d3\n5d9c407399ad9628d0022a8b\n5d9d9a05c9a54d501141c7a8\n5d9db4b7e96f71313cdde482\n5da427809f1a0852aee59ffb\n5da4620682884013f949fa1a\n5da5b8ae8351bd4f0f364c55\n5dad70f122f5246b49811f61\n5dad9d0a3f3c91724ecfd843\n5dada3559ca9a00e964053da\n5dadb09e2a76524dc5b732e8\n5db18bbb40c5500246c2563d\n5db2868e230c196ed904a31d\n5db2be48c8be190b07ac36b9\n5db2be5237f39340362785f8\n5db932f94a9ba572c213362f\n5db948a87567a016ffd2842b\n5db9857caa65f0171a6c7b1b\n5d835bfe64fa6b7c38c9d5a1\n5d835cf06b9fbc30800e63fe\n5d8aff969e61b82abb04201d\n5d8b14e5b3614b2f96cda7a9\n5d8c76581703d02929963bfd\n5d835c6850ffd3618b3371df\n5d838843e7652d3219143c48\n5d846ad6a2716e570a2b61ee\n5d846b76c7e234695a87c86d\n5d846b8821944237b8b349fe\n5d846b93bf5ab037bfca9b4f\n5d84842fcd515929b0f8f3e7\n5d84ad6de9fe4084262cd65d\n5d84b25575791b1353d4945f\n5d84b519362bc94a056982bd\n5d84c87a2793890e92189bf7\n5d84deac62329a384bfd17ef\n5d84def02af544108f62ea7d\n5d889ae8c636064eb653c597\n5d889e89e8b1d659a535b30f\n5d88a1d342b12a495e54dcbf\n5d88a436ef76f81e25074738\n5d88a4ce373e7a57157be632\n5d88bb943087c20299b0d3b9\n5d88bf0e1d896c3392a11d99\n5d89d407e6c24389a2af7815\n5d8b50c01d318f5b638030b6\n5d8b51dbc947310f6fa21d19\n5d8b52e89729731ef3011899\n5db9860656e4493ab73de52f\n5dba87844e9837764c18b8e8\n5dbfea64a8141b88498e9d92\n5dc019ae4ed02d62aed1653c\n5dc026c6f454d77cf831893a\n5dc15e93b552d030b62d4a85\n5dc16c9881931c3ffdadf6c0\n5dc27235b2234469c0c6796d\n5dc280188a78933e550a54df\n5dc2bd505c2afc39cd631e15\n5dc2c6537db160418394b29f\n5d8b539deab82c2a51bd283c\n5d8b579d279af14d793bbc54\n5d8b594dd705664e91962509\n5d8b59e419692508bdb73ef2\n5d8b5a6d5c47961ad09f4f0f\n5d9196cbbfd44e0f4d8cf737\n5d943746ca8a1f7a8d613dd7\n5d944c9ea24044614b9980fd\n5d9c8b643be3ed3e4d5a49f7\n5d92e634ee1e882a6282988c\n5d96dfacf568e17d664067dc\n5d972ea8f29b4e6aaa8db7dd\n5d9c407399ad9628d0022a95\n5d9d9a05c9a54d501141c7b2\n5d9db4b7e96f71313cdde48c\n5da427809f1a0852aee5a005\n5da4620682884013f949fa24\n5da5b8ae8351bd4f0f364c5f\n5dad70f122f5246b49811f6b\n5dad9d0a3f3c91724ecfd849\n5dada3559ca9a00e964053e4\n5dadb09e2a76524dc5b732f0\n5db18bbb40c5500246c25647\n5db2868e230c196ed904a327\n5db932f94a9ba572c2133639\n5db948a87567a016ffd28435\n5db9857caa65f0171a6c7b25\n5db9860656e4493ab73de537\n5d8aff969e61b82abb042027\n5d8c76581703d02929963c07\n5d84ac72be93fb21296d01b9\n5d89bb0c496f1337de84cd01\n5d89bb8a07ee202a3d2a5953\n5d89d407e6c24389a2af781f\n5d8b50c01d318f5b638030c0\n5d8b51dbc947310f6fa21d23\n5dba87844e9837764c18b8f2\n5dbfea64a8141b88498e9d9c\n5dc019ae4ed02d62aed16546\n5dc026c6f454d77cf8318944\n5dc15e93b552d030b62d4a8f\n5dc16c9881931c3ffdadf6ca\n5dc27235b2234469c0c67977\n5dc280188a78933e550a54e9\n5dc2bd505c2afc39cd631e1d\n5dc2c6537db160418394b2a9\n5d8b52e89729731ef30118a3\n5d8b539deab82c2a51bd2846\n5d8b579d279af14d793bbc5e\n5d8b594dd705664e91962513\n5d8b59e419692508bdb73efa\n5d8b5a6d5c47961ad09f4f17\n5d9196cbbfd44e0f4d8cf741\n5d91f7cb569ab3156acb9c3d\n5d9349ed2e95f503a2cd0ae9\n5d943746ca8a1f7a8d613de1\n5d944c9ea24044614b998107\n5d95982f78496219245ce572\n5d95ad34a1274b60de6d965e\n5d95ade3ed7ad21391b0087f\n5d96ee0491b3ab30150febb0\n5d84ad52fd5d2e3ef8e62ca9\n"
    }
   ],
   "source": [
    "for check in checklist_generator:\n",
    "    print(check)"
   ]
  },
  {
   "cell_type": "markdown",
   "execution_count": null,
   "metadata": {},
   "outputs": [],
   "source": [
    "Now, let's create a DataFrame object with card attributes we should explore later "
   ]
  },
  {
   "cell_type": "code",
   "execution_count": 10,
   "metadata": {},
   "outputs": [
    {
     "name": "stdout",
     "output_type": "stream",
     "text": "Card name       Status  \\\n0           BIDWHDEV-XXXX      Backlog   \n1           BIDWHDEV-XXXX      Backlog   \n2  BIDWHDEV-XXXX - HOTFIX      Backlog   \n3           BIDWHDEV-4582      Backlog   \n4           BIDWHDEV-4446  Development   \n\n                                             Members  \\\n0                                                 []   \n1  [5d831835808145195c95f1a0, 526d0007f28467086c0...   \n2                                                 []   \n3                         [5d83181837b3833746dce248]   \n4  [5d831835808145195c95f1a0, 526d0007f28467086c0...   \n\n                                          Checklists  \n0  [<Checklist 5dc019ae4ed02d62aed16506>, <Checkl...  \n1  [<Checklist 5d88bf0e1d896c3392a11d67>, <Checkl...  \n2  [<Checklist 5dc026c6f454d77cf8318904>, <Checkl...  \n3  [<Checklist 5dc2c6537db160418394b269>, <Checkl...  \n4  [<Checklist 5da5b8ae8351bd4f0f364c21>, <Checkl...  \n"
    }
   ],
   "source": [
    "# CREATING DATAFRAME OBJECT\n",
    "all_cards = dev_board.all_cards()\n",
    "df_list = []\n",
    "headers = ['Card name', 'Status', 'Members', 'Checklists']\n",
    "for card in all_cards:\n",
    "    df_list.append([card.name, card.get_list().name, card.member_id, card.checklists])\n",
    "\n",
    "df = pd.DataFrame(data=df_list)\n",
    "df.columns = headers\n",
    "print(df.head())"
   ]
  },
  {
   "cell_type": "markdown",
   "execution_count": null,
   "metadata": {},
   "outputs": [],
   "source": [
    "OK, so we have a df with some interesting data. We should load it somewhere, to make it accessable for EDA. Let's store the data into a csv file!"
   ]
  },
  {
   "cell_type": "code",
   "execution_count": 11,
   "metadata": {},
   "outputs": [],
   "source": [
    "# WRITE DATAFRAME TO CSV\n",
    "dateparam = date.today()\n",
    "\n",
    "with open('C:\\git\\HomeProject/trello_export_'+str(dateparam)+'.csv', mode='w', newline='') as trello_file:\n",
    "    trello_writer = csv.writer(trello_file, delimiter=',', quotechar='\"', quoting=csv.QUOTE_MINIMAL)\n",
    "    trello_writer.writerow(df.columns)\n",
    "    for index, row in df.iterrows():\n",
    "        trello_writer.writerow(row)"
   ]
  },
  {
   "cell_type": "markdown",
   "execution_count": null,
   "metadata": {},
   "outputs": [],
   "source": [
    "Nice Job! At this point we have a csv file with data about the current Trello workflow of our team. But is it useful for us..?"
   ]
  },
  {
   "cell_type": "markdown",
   "execution_count": null,
   "metadata": {},
   "outputs": [],
   "source": [
    "#Trello EDA"
   ]
  },
  {
   "cell_type": "code",
   "execution_count": 13,
   "metadata": {},
   "outputs": [
    {
     "name": "stdout",
     "output_type": "stream",
     "text": "<class 'pandas.core.frame.DataFrame'>\nRangeIndex: 70 entries, 0 to 69\nData columns (total 4 columns):\nCard name     70 non-null object\nStatus        70 non-null object\nMembers       70 non-null object\nChecklists    70 non-null object\ndtypes: object(4)\nmemory usage: 2.3+ KB\nNone\n"
    }
   ],
   "source": [
    "print(df.info())"
   ]
  },
  {
   "cell_type": "code",
   "execution_count": 14,
   "metadata": {},
   "outputs": [
    {
     "name": "stdout",
     "output_type": "stream",
     "text": "Card name     Status  \\\ncount              70         70   \nunique             67         12   \ntop     BIDWHDEV-4202  Prod Test   \nfreq                2         21   \n\n                                                  Members  \\\ncount                                                  70   \nunique                                                  8   \ntop     [5d83181837b3833746dce248, 5d831835808145195c9...   \nfreq                                                   22   \n\n                                               Checklists  \ncount                                                  70  \nunique                                                 70  \ntop     [<Checklist 5d9c407399ad9628d0022a57>, <Checkl...  \nfreq                                                    1  \n"
    }
   ],
   "source": [
    "print(df.describe())"
   ]
  },
  {
   "cell_type": "code",
   "execution_count": 18,
   "metadata": {},
   "outputs": [
    {
     "name": "stdout",
     "output_type": "stream",
     "text": "Card name     70\nStatus        70\nMembers       70\nChecklists    70\ndtype: int64\n"
    }
   ],
   "source": [
    "print(df.count())"
   ]
  },
  {
   "cell_type": "code",
   "execution_count": 26,
   "metadata": {},
   "outputs": [
    {
     "name": "stdout",
     "output_type": "stream",
     "text": "<built-in method count of list object at 0x0000029BAFD77DC8>\n"
    }
   ],
   "source": [
    "print(dev_board.all_lists().count)"
   ]
  }
 ]
}