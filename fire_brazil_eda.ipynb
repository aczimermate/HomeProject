{
 "nbformat": 4,
 "nbformat_minor": 2,
 "metadata": {
  "language_info": {
   "name": "python",
   "codemirror_mode": {
    "name": "ipython",
    "version": 3
   }
  },
  "orig_nbformat": 2,
  "file_extension": ".py",
  "mimetype": "text/x-python",
  "name": "python",
  "npconvert_exporter": "python",
  "pygments_lexer": "ipython3",
  "version": 3
 },
 "cells": [
  {
   "cell_type": "code",
   "execution_count": 1,
   "metadata": {},
   "outputs": [],
   "source": [
    "import pandas as pd\n",
    "import numpy as np"
   ]
  },
  {
   "cell_type": "code",
   "execution_count": 35,
   "metadata": {},
   "outputs": [],
   "source": [
    "file = \"c:/git/HomeProject/csvs/amazon.csv\"\n",
    "\n",
    "# Create DataFrame object\n",
    "df = pd.read_csv(file, encoding=\"latin1\")"
   ]
  },
  {
   "cell_type": "code",
   "execution_count": 3,
   "metadata": {},
   "outputs": [
    {
     "data": {
      "text/html": "<div>\n<style scoped>\n    .dataframe tbody tr th:only-of-type {\n        vertical-align: middle;\n    }\n\n    .dataframe tbody tr th {\n        vertical-align: top;\n    }\n\n    .dataframe thead th {\n        text-align: right;\n    }\n</style>\n<table border=\"1\" class=\"dataframe\">\n  <thead>\n    <tr style=\"text-align: right;\">\n      <th></th>\n      <th>year</th>\n      <th>state</th>\n      <th>month</th>\n      <th>number</th>\n      <th>date</th>\n    </tr>\n  </thead>\n  <tbody>\n    <tr>\n      <td>0</td>\n      <td>1998</td>\n      <td>Acre</td>\n      <td>Janeiro</td>\n      <td>0.0</td>\n      <td>1998-01-01</td>\n    </tr>\n    <tr>\n      <td>1</td>\n      <td>1999</td>\n      <td>Acre</td>\n      <td>Janeiro</td>\n      <td>0.0</td>\n      <td>1999-01-01</td>\n    </tr>\n    <tr>\n      <td>2</td>\n      <td>2000</td>\n      <td>Acre</td>\n      <td>Janeiro</td>\n      <td>0.0</td>\n      <td>2000-01-01</td>\n    </tr>\n    <tr>\n      <td>3</td>\n      <td>2001</td>\n      <td>Acre</td>\n      <td>Janeiro</td>\n      <td>0.0</td>\n      <td>2001-01-01</td>\n    </tr>\n    <tr>\n      <td>4</td>\n      <td>2002</td>\n      <td>Acre</td>\n      <td>Janeiro</td>\n      <td>0.0</td>\n      <td>2002-01-01</td>\n    </tr>\n  </tbody>\n</table>\n</div>",
      "text/plain": "   year state    month  number        date\n0  1998  Acre  Janeiro     0.0  1998-01-01\n1  1999  Acre  Janeiro     0.0  1999-01-01\n2  2000  Acre  Janeiro     0.0  2000-01-01\n3  2001  Acre  Janeiro     0.0  2001-01-01\n4  2002  Acre  Janeiro     0.0  2002-01-01"
     },
     "execution_count": 3,
     "metadata": {},
     "output_type": "execute_result"
    }
   ],
   "source": [
    "df.head()"
   ]
  },
  {
   "cell_type": "code",
   "execution_count": 4,
   "metadata": {},
   "outputs": [
    {
     "data": {
      "text/html": "<div>\n<style scoped>\n    .dataframe tbody tr th:only-of-type {\n        vertical-align: middle;\n    }\n\n    .dataframe tbody tr th {\n        vertical-align: top;\n    }\n\n    .dataframe thead th {\n        text-align: right;\n    }\n</style>\n<table border=\"1\" class=\"dataframe\">\n  <thead>\n    <tr style=\"text-align: right;\">\n      <th></th>\n      <th>year</th>\n      <th>state</th>\n      <th>month</th>\n      <th>number</th>\n      <th>date</th>\n    </tr>\n  </thead>\n  <tbody>\n    <tr>\n      <td>6449</td>\n      <td>2012</td>\n      <td>Tocantins</td>\n      <td>Dezembro</td>\n      <td>128.0</td>\n      <td>2012-01-01</td>\n    </tr>\n    <tr>\n      <td>6450</td>\n      <td>2013</td>\n      <td>Tocantins</td>\n      <td>Dezembro</td>\n      <td>85.0</td>\n      <td>2013-01-01</td>\n    </tr>\n    <tr>\n      <td>6451</td>\n      <td>2014</td>\n      <td>Tocantins</td>\n      <td>Dezembro</td>\n      <td>223.0</td>\n      <td>2014-01-01</td>\n    </tr>\n    <tr>\n      <td>6452</td>\n      <td>2015</td>\n      <td>Tocantins</td>\n      <td>Dezembro</td>\n      <td>373.0</td>\n      <td>2015-01-01</td>\n    </tr>\n    <tr>\n      <td>6453</td>\n      <td>2016</td>\n      <td>Tocantins</td>\n      <td>Dezembro</td>\n      <td>119.0</td>\n      <td>2016-01-01</td>\n    </tr>\n  </tbody>\n</table>\n</div>",
      "text/plain": "      year      state     month  number        date\n6449  2012  Tocantins  Dezembro   128.0  2012-01-01\n6450  2013  Tocantins  Dezembro    85.0  2013-01-01\n6451  2014  Tocantins  Dezembro   223.0  2014-01-01\n6452  2015  Tocantins  Dezembro   373.0  2015-01-01\n6453  2016  Tocantins  Dezembro   119.0  2016-01-01"
     },
     "execution_count": 4,
     "metadata": {},
     "output_type": "execute_result"
    }
   ],
   "source": [
    "df.tail()"
   ]
  },
  {
   "cell_type": "code",
   "execution_count": 36,
   "metadata": {},
   "outputs": [
    {
     "data": {
      "text/html": "<div>\n<style scoped>\n    .dataframe tbody tr th:only-of-type {\n        vertical-align: middle;\n    }\n\n    .dataframe tbody tr th {\n        vertical-align: top;\n    }\n\n    .dataframe thead th {\n        text-align: right;\n    }\n</style>\n<table border=\"1\" class=\"dataframe\">\n  <thead>\n    <tr style=\"text-align: right;\">\n      <th></th>\n      <th>year</th>\n      <th>state</th>\n      <th>month</th>\n      <th>number</th>\n    </tr>\n    <tr>\n      <th>date</th>\n      <th></th>\n      <th></th>\n      <th></th>\n      <th></th>\n    </tr>\n  </thead>\n  <tbody>\n    <tr>\n      <td>1998-01-01</td>\n      <td>324</td>\n      <td>324</td>\n      <td>324</td>\n      <td>324</td>\n    </tr>\n    <tr>\n      <td>1999-01-01</td>\n      <td>324</td>\n      <td>324</td>\n      <td>324</td>\n      <td>324</td>\n    </tr>\n    <tr>\n      <td>2000-01-01</td>\n      <td>324</td>\n      <td>324</td>\n      <td>324</td>\n      <td>324</td>\n    </tr>\n    <tr>\n      <td>2001-01-01</td>\n      <td>324</td>\n      <td>324</td>\n      <td>324</td>\n      <td>324</td>\n    </tr>\n    <tr>\n      <td>2002-01-01</td>\n      <td>324</td>\n      <td>324</td>\n      <td>324</td>\n      <td>324</td>\n    </tr>\n    <tr>\n      <td>2003-01-01</td>\n      <td>324</td>\n      <td>324</td>\n      <td>324</td>\n      <td>324</td>\n    </tr>\n    <tr>\n      <td>2004-01-01</td>\n      <td>324</td>\n      <td>324</td>\n      <td>324</td>\n      <td>324</td>\n    </tr>\n    <tr>\n      <td>2005-01-01</td>\n      <td>324</td>\n      <td>324</td>\n      <td>324</td>\n      <td>324</td>\n    </tr>\n    <tr>\n      <td>2006-01-01</td>\n      <td>324</td>\n      <td>324</td>\n      <td>324</td>\n      <td>324</td>\n    </tr>\n    <tr>\n      <td>2007-01-01</td>\n      <td>324</td>\n      <td>324</td>\n      <td>324</td>\n      <td>324</td>\n    </tr>\n    <tr>\n      <td>2008-01-01</td>\n      <td>324</td>\n      <td>324</td>\n      <td>324</td>\n      <td>324</td>\n    </tr>\n    <tr>\n      <td>2009-01-01</td>\n      <td>324</td>\n      <td>324</td>\n      <td>324</td>\n      <td>324</td>\n    </tr>\n    <tr>\n      <td>2010-01-01</td>\n      <td>324</td>\n      <td>324</td>\n      <td>324</td>\n      <td>324</td>\n    </tr>\n    <tr>\n      <td>2011-01-01</td>\n      <td>324</td>\n      <td>324</td>\n      <td>324</td>\n      <td>324</td>\n    </tr>\n    <tr>\n      <td>2012-01-01</td>\n      <td>324</td>\n      <td>324</td>\n      <td>324</td>\n      <td>324</td>\n    </tr>\n    <tr>\n      <td>2013-01-01</td>\n      <td>324</td>\n      <td>324</td>\n      <td>324</td>\n      <td>324</td>\n    </tr>\n    <tr>\n      <td>2014-01-01</td>\n      <td>324</td>\n      <td>324</td>\n      <td>324</td>\n      <td>324</td>\n    </tr>\n    <tr>\n      <td>2015-01-01</td>\n      <td>324</td>\n      <td>324</td>\n      <td>324</td>\n      <td>324</td>\n    </tr>\n    <tr>\n      <td>2016-01-01</td>\n      <td>324</td>\n      <td>324</td>\n      <td>324</td>\n      <td>324</td>\n    </tr>\n    <tr>\n      <td>2017-01-01</td>\n      <td>298</td>\n      <td>298</td>\n      <td>298</td>\n      <td>298</td>\n    </tr>\n  </tbody>\n</table>\n</div>",
      "text/plain": "            year  state  month  number\ndate                                  \n1998-01-01   324    324    324     324\n1999-01-01   324    324    324     324\n2000-01-01   324    324    324     324\n2001-01-01   324    324    324     324\n2002-01-01   324    324    324     324\n2003-01-01   324    324    324     324\n2004-01-01   324    324    324     324\n2005-01-01   324    324    324     324\n2006-01-01   324    324    324     324\n2007-01-01   324    324    324     324\n2008-01-01   324    324    324     324\n2009-01-01   324    324    324     324\n2010-01-01   324    324    324     324\n2011-01-01   324    324    324     324\n2012-01-01   324    324    324     324\n2013-01-01   324    324    324     324\n2014-01-01   324    324    324     324\n2015-01-01   324    324    324     324\n2016-01-01   324    324    324     324\n2017-01-01   298    298    298     298"
     },
     "execution_count": 36,
     "metadata": {},
     "output_type": "execute_result"
    }
   ],
   "source": [
    "df.groupby('date').count()\n",
    "# It seems like the 'date' columns is not so useful.. \n",
    "# We should combine year and month columns to create a monthly sum of number of fires per state"
   ]
  },
  {
   "cell_type": "code",
   "execution_count": 37,
   "metadata": {},
   "outputs": [
    {
     "ename": "ValueError",
     "evalue": "Unable to parse string \"Janeiro\" at position 0",
     "output_type": "error",
     "traceback": [
      "\u001b[1;31m---------------------------------------------------------------------------\u001b[0m",
      "\u001b[1;31mValueError\u001b[0m                                Traceback (most recent call last)",
      "\u001b[1;32mpandas\\_libs\\lib.pyx\u001b[0m in \u001b[0;36mpandas._libs.lib.maybe_convert_numeric\u001b[1;34m()\u001b[0m\n",
      "\u001b[1;31mValueError\u001b[0m: Unable to parse string \"Janeiro\"",
      "\nDuring handling of the above exception, another exception occurred:\n",
      "\u001b[1;31mValueError\u001b[0m                                Traceback (most recent call last)",
      "\u001b[1;32m<ipython-input-37-e8f1470084d5>\u001b[0m in \u001b[0;36m<module>\u001b[1;34m\u001b[0m\n\u001b[1;32m----> 1\u001b[1;33m \u001b[0mdf\u001b[0m\u001b[1;33m[\u001b[0m\u001b[1;34m'Datetime'\u001b[0m\u001b[1;33m]\u001b[0m \u001b[1;33m=\u001b[0m \u001b[0mpd\u001b[0m\u001b[1;33m.\u001b[0m\u001b[0mto_datetime\u001b[0m\u001b[1;33m(\u001b[0m\u001b[0mdf\u001b[0m\u001b[1;33m[\u001b[0m\u001b[1;33m[\u001b[0m\u001b[1;34m'year'\u001b[0m\u001b[1;33m,\u001b[0m \u001b[1;34m'month'\u001b[0m\u001b[1;33m]\u001b[0m\u001b[1;33m]\u001b[0m\u001b[1;33m.\u001b[0m\u001b[0massign\u001b[0m\u001b[1;33m(\u001b[0m\u001b[0mDay\u001b[0m\u001b[1;33m=\u001b[0m\u001b[1;36m1\u001b[0m\u001b[1;33m)\u001b[0m\u001b[1;33m)\u001b[0m\u001b[1;33m\u001b[0m\u001b[1;33m\u001b[0m\u001b[0m\n\u001b[0m\u001b[0;32m      2\u001b[0m \u001b[1;31m# It won't work, because we have portuguese values in month column..\u001b[0m\u001b[1;33m\u001b[0m\u001b[1;33m\u001b[0m\u001b[1;33m\u001b[0m\u001b[0m\n",
      "\u001b[1;32mC:\\Apps\\Anaconda3\\lib\\site-packages\\pandas\\util\\_decorators.py\u001b[0m in \u001b[0;36mwrapper\u001b[1;34m(*args, **kwargs)\u001b[0m\n\u001b[0;32m    206\u001b[0m                 \u001b[1;32melse\u001b[0m\u001b[1;33m:\u001b[0m\u001b[1;33m\u001b[0m\u001b[1;33m\u001b[0m\u001b[0m\n\u001b[0;32m    207\u001b[0m                     \u001b[0mkwargs\u001b[0m\u001b[1;33m[\u001b[0m\u001b[0mnew_arg_name\u001b[0m\u001b[1;33m]\u001b[0m \u001b[1;33m=\u001b[0m \u001b[0mnew_arg_value\u001b[0m\u001b[1;33m\u001b[0m\u001b[1;33m\u001b[0m\u001b[0m\n\u001b[1;32m--> 208\u001b[1;33m             \u001b[1;32mreturn\u001b[0m \u001b[0mfunc\u001b[0m\u001b[1;33m(\u001b[0m\u001b[1;33m*\u001b[0m\u001b[0margs\u001b[0m\u001b[1;33m,\u001b[0m \u001b[1;33m**\u001b[0m\u001b[0mkwargs\u001b[0m\u001b[1;33m)\u001b[0m\u001b[1;33m\u001b[0m\u001b[1;33m\u001b[0m\u001b[0m\n\u001b[0m\u001b[0;32m    209\u001b[0m \u001b[1;33m\u001b[0m\u001b[0m\n\u001b[0;32m    210\u001b[0m         \u001b[1;32mreturn\u001b[0m \u001b[0mwrapper\u001b[0m\u001b[1;33m\u001b[0m\u001b[1;33m\u001b[0m\u001b[0m\n",
      "\u001b[1;32mC:\\Apps\\Anaconda3\\lib\\site-packages\\pandas\\core\\tools\\datetimes.py\u001b[0m in \u001b[0;36mto_datetime\u001b[1;34m(arg, errors, dayfirst, yearfirst, utc, box, format, exact, unit, infer_datetime_format, origin, cache)\u001b[0m\n\u001b[0;32m    779\u001b[0m             \u001b[0mresult\u001b[0m \u001b[1;33m=\u001b[0m \u001b[0marg\u001b[0m\u001b[1;33m.\u001b[0m\u001b[0m_constructor\u001b[0m\u001b[1;33m(\u001b[0m\u001b[0mvalues\u001b[0m\u001b[1;33m,\u001b[0m \u001b[0mindex\u001b[0m\u001b[1;33m=\u001b[0m\u001b[0marg\u001b[0m\u001b[1;33m.\u001b[0m\u001b[0mindex\u001b[0m\u001b[1;33m,\u001b[0m \u001b[0mname\u001b[0m\u001b[1;33m=\u001b[0m\u001b[0marg\u001b[0m\u001b[1;33m.\u001b[0m\u001b[0mname\u001b[0m\u001b[1;33m)\u001b[0m\u001b[1;33m\u001b[0m\u001b[1;33m\u001b[0m\u001b[0m\n\u001b[0;32m    780\u001b[0m     \u001b[1;32melif\u001b[0m \u001b[0misinstance\u001b[0m\u001b[1;33m(\u001b[0m\u001b[0marg\u001b[0m\u001b[1;33m,\u001b[0m \u001b[1;33m(\u001b[0m\u001b[0mABCDataFrame\u001b[0m\u001b[1;33m,\u001b[0m \u001b[0mabc\u001b[0m\u001b[1;33m.\u001b[0m\u001b[0mMutableMapping\u001b[0m\u001b[1;33m)\u001b[0m\u001b[1;33m)\u001b[0m\u001b[1;33m:\u001b[0m\u001b[1;33m\u001b[0m\u001b[1;33m\u001b[0m\u001b[0m\n\u001b[1;32m--> 781\u001b[1;33m         \u001b[0mresult\u001b[0m \u001b[1;33m=\u001b[0m \u001b[0m_assemble_from_unit_mappings\u001b[0m\u001b[1;33m(\u001b[0m\u001b[0marg\u001b[0m\u001b[1;33m,\u001b[0m \u001b[0merrors\u001b[0m\u001b[1;33m,\u001b[0m \u001b[0mbox\u001b[0m\u001b[1;33m,\u001b[0m \u001b[0mtz\u001b[0m\u001b[1;33m)\u001b[0m\u001b[1;33m\u001b[0m\u001b[1;33m\u001b[0m\u001b[0m\n\u001b[0m\u001b[0;32m    782\u001b[0m     \u001b[1;32melif\u001b[0m \u001b[0misinstance\u001b[0m\u001b[1;33m(\u001b[0m\u001b[0marg\u001b[0m\u001b[1;33m,\u001b[0m \u001b[0mABCIndexClass\u001b[0m\u001b[1;33m)\u001b[0m\u001b[1;33m:\u001b[0m\u001b[1;33m\u001b[0m\u001b[1;33m\u001b[0m\u001b[0m\n\u001b[0;32m    783\u001b[0m         \u001b[0mcache_array\u001b[0m \u001b[1;33m=\u001b[0m \u001b[0m_maybe_cache\u001b[0m\u001b[1;33m(\u001b[0m\u001b[0marg\u001b[0m\u001b[1;33m,\u001b[0m \u001b[0mformat\u001b[0m\u001b[1;33m,\u001b[0m \u001b[0mcache\u001b[0m\u001b[1;33m,\u001b[0m \u001b[0mconvert_listlike\u001b[0m\u001b[1;33m)\u001b[0m\u001b[1;33m\u001b[0m\u001b[1;33m\u001b[0m\u001b[0m\n",
      "\u001b[1;32mC:\\Apps\\Anaconda3\\lib\\site-packages\\pandas\\core\\tools\\datetimes.py\u001b[0m in \u001b[0;36m_assemble_from_unit_mappings\u001b[1;34m(arg, errors, box, tz)\u001b[0m\n\u001b[0;32m    899\u001b[0m         \u001b[0mcoerce\u001b[0m\u001b[1;33m(\u001b[0m\u001b[0marg\u001b[0m\u001b[1;33m[\u001b[0m\u001b[0munit_rev\u001b[0m\u001b[1;33m[\u001b[0m\u001b[1;34m\"year\"\u001b[0m\u001b[1;33m]\u001b[0m\u001b[1;33m]\u001b[0m\u001b[1;33m)\u001b[0m \u001b[1;33m*\u001b[0m \u001b[1;36m10000\u001b[0m\u001b[1;33m\u001b[0m\u001b[1;33m\u001b[0m\u001b[0m\n\u001b[0;32m    900\u001b[0m         \u001b[1;33m+\u001b[0m \u001b[0mcoerce\u001b[0m\u001b[1;33m(\u001b[0m\u001b[0marg\u001b[0m\u001b[1;33m[\u001b[0m\u001b[0munit_rev\u001b[0m\u001b[1;33m[\u001b[0m\u001b[1;34m\"month\"\u001b[0m\u001b[1;33m]\u001b[0m\u001b[1;33m]\u001b[0m\u001b[1;33m)\u001b[0m \u001b[1;33m*\u001b[0m \u001b[1;36m100\u001b[0m\u001b[1;33m\u001b[0m\u001b[1;33m\u001b[0m\u001b[0m\n\u001b[1;32m--> 901\u001b[1;33m         \u001b[1;33m+\u001b[0m \u001b[0mcoerce\u001b[0m\u001b[1;33m(\u001b[0m\u001b[0marg\u001b[0m\u001b[1;33m[\u001b[0m\u001b[0munit_rev\u001b[0m\u001b[1;33m[\u001b[0m\u001b[1;34m\"day\"\u001b[0m\u001b[1;33m]\u001b[0m\u001b[1;33m]\u001b[0m\u001b[1;33m)\u001b[0m\u001b[1;33m\u001b[0m\u001b[1;33m\u001b[0m\u001b[0m\n\u001b[0m\u001b[0;32m    902\u001b[0m     )\n\u001b[0;32m    903\u001b[0m     \u001b[1;32mtry\u001b[0m\u001b[1;33m:\u001b[0m\u001b[1;33m\u001b[0m\u001b[1;33m\u001b[0m\u001b[0m\n",
      "\u001b[1;32mC:\\Apps\\Anaconda3\\lib\\site-packages\\pandas\\core\\tools\\datetimes.py\u001b[0m in \u001b[0;36mcoerce\u001b[1;34m(values)\u001b[0m\n\u001b[0;32m    889\u001b[0m     \u001b[1;32mdef\u001b[0m \u001b[0mcoerce\u001b[0m\u001b[1;33m(\u001b[0m\u001b[0mvalues\u001b[0m\u001b[1;33m)\u001b[0m\u001b[1;33m:\u001b[0m\u001b[1;33m\u001b[0m\u001b[1;33m\u001b[0m\u001b[0m\n\u001b[0;32m    890\u001b[0m         \u001b[1;31m# we allow coercion to if errors allows\u001b[0m\u001b[1;33m\u001b[0m\u001b[1;33m\u001b[0m\u001b[1;33m\u001b[0m\u001b[0m\n\u001b[1;32m--> 891\u001b[1;33m         \u001b[0mvalues\u001b[0m \u001b[1;33m=\u001b[0m \u001b[0mto_numeric\u001b[0m\u001b[1;33m(\u001b[0m\u001b[0mvalues\u001b[0m\u001b[1;33m,\u001b[0m \u001b[0merrors\u001b[0m\u001b[1;33m=\u001b[0m\u001b[0merrors\u001b[0m\u001b[1;33m)\u001b[0m\u001b[1;33m\u001b[0m\u001b[1;33m\u001b[0m\u001b[0m\n\u001b[0m\u001b[0;32m    892\u001b[0m \u001b[1;33m\u001b[0m\u001b[0m\n\u001b[0;32m    893\u001b[0m         \u001b[1;31m# prevent overflow in case of int8 or int16\u001b[0m\u001b[1;33m\u001b[0m\u001b[1;33m\u001b[0m\u001b[1;33m\u001b[0m\u001b[0m\n",
      "\u001b[1;32mC:\\Apps\\Anaconda3\\lib\\site-packages\\pandas\\core\\tools\\numeric.py\u001b[0m in \u001b[0;36mto_numeric\u001b[1;34m(arg, errors, downcast)\u001b[0m\n\u001b[0;32m    149\u001b[0m             \u001b[0mcoerce_numeric\u001b[0m \u001b[1;33m=\u001b[0m \u001b[0merrors\u001b[0m \u001b[1;32mnot\u001b[0m \u001b[1;32min\u001b[0m \u001b[1;33m(\u001b[0m\u001b[1;34m\"ignore\"\u001b[0m\u001b[1;33m,\u001b[0m \u001b[1;34m\"raise\"\u001b[0m\u001b[1;33m)\u001b[0m\u001b[1;33m\u001b[0m\u001b[1;33m\u001b[0m\u001b[0m\n\u001b[0;32m    150\u001b[0m             values = lib.maybe_convert_numeric(\n\u001b[1;32m--> 151\u001b[1;33m                 \u001b[0mvalues\u001b[0m\u001b[1;33m,\u001b[0m \u001b[0mset\u001b[0m\u001b[1;33m(\u001b[0m\u001b[1;33m)\u001b[0m\u001b[1;33m,\u001b[0m \u001b[0mcoerce_numeric\u001b[0m\u001b[1;33m=\u001b[0m\u001b[0mcoerce_numeric\u001b[0m\u001b[1;33m\u001b[0m\u001b[1;33m\u001b[0m\u001b[0m\n\u001b[0m\u001b[0;32m    152\u001b[0m             )\n\u001b[0;32m    153\u001b[0m \u001b[1;33m\u001b[0m\u001b[0m\n",
      "\u001b[1;32mpandas\\_libs\\lib.pyx\u001b[0m in \u001b[0;36mpandas._libs.lib.maybe_convert_numeric\u001b[1;34m()\u001b[0m\n",
      "\u001b[1;31mValueError\u001b[0m: Unable to parse string \"Janeiro\" at position 0"
     ]
    }
   ],
   "source": [
    "df['Datetime'] = pd.to_datetime(df[['year', 'month']].assign(Day=1))\n",
    "# It won't work, because we have portuguese values in month column.."
   ]
  },
  {
   "cell_type": "code",
   "execution_count": 47,
   "metadata": {},
   "outputs": [],
   "source": [
    "def convert_months(month):\n",
    "    \"\"\"\n",
    "    1. Step: Translate month data from Portuguese to English.\n",
    "    2. Step: Create integer object from input data.\n",
    "    3. Step: return date object.\n",
    "    \"\"\"\n",
    "    if str(month)[:3] == 'Jan':\n",
    "        new_month = 1\n",
    "    elif str(month)[:3] == 'Fev':\n",
    "        new_month = 2\n",
    "    elif str(month)[:3] == 'Mar':\n",
    "        new_month = 3\n",
    "    elif str(month)[:3] == 'Abr':\n",
    "        new_month = 4\n",
    "    elif str(month)[:3] == 'Mai':\n",
    "        new_month = 5\n",
    "    elif str(month)[:3] == 'Jun':\n",
    "        new_month = 6\n",
    "    elif str(month)[:3] == 'Jul':\n",
    "        new_month = 7\n",
    "    elif str(month)[:3] == 'Ago':\n",
    "        new_month = 8\n",
    "    elif str(month)[:3] == 'Set':\n",
    "        new_month = 9\n",
    "    elif str(month)[:3] == 'Out':\n",
    "        new_month = 10\n",
    "    elif str(month)[:3] == 'Nov':\n",
    "        new_month = 11\n",
    "    elif str(month)[:3] == 'Dez':\n",
    "        new_month = 12\n",
    "    else:\n",
    "        return print(\"Not convertable month data!\")\n",
    "    return new_month"
   ]
  },
  {
   "cell_type": "code",
   "execution_count": 48,
   "metadata": {},
   "outputs": [
    {
     "data": {
      "text/html": "<div>\n<style scoped>\n    .dataframe tbody tr th:only-of-type {\n        vertical-align: middle;\n    }\n\n    .dataframe tbody tr th {\n        vertical-align: top;\n    }\n\n    .dataframe thead th {\n        text-align: right;\n    }\n</style>\n<table border=\"1\" class=\"dataframe\">\n  <thead>\n    <tr style=\"text-align: right;\">\n      <th></th>\n      <th>year</th>\n      <th>state</th>\n      <th>month</th>\n      <th>number</th>\n      <th>date</th>\n    </tr>\n  </thead>\n  <tbody>\n    <tr>\n      <td>0</td>\n      <td>1998</td>\n      <td>Acre</td>\n      <td>Janeiro</td>\n      <td>0.0</td>\n      <td>1998-01-01</td>\n    </tr>\n    <tr>\n      <td>1</td>\n      <td>1999</td>\n      <td>Acre</td>\n      <td>Janeiro</td>\n      <td>0.0</td>\n      <td>1999-01-01</td>\n    </tr>\n    <tr>\n      <td>2</td>\n      <td>2000</td>\n      <td>Acre</td>\n      <td>Janeiro</td>\n      <td>0.0</td>\n      <td>2000-01-01</td>\n    </tr>\n    <tr>\n      <td>3</td>\n      <td>2001</td>\n      <td>Acre</td>\n      <td>Janeiro</td>\n      <td>0.0</td>\n      <td>2001-01-01</td>\n    </tr>\n    <tr>\n      <td>4</td>\n      <td>2002</td>\n      <td>Acre</td>\n      <td>Janeiro</td>\n      <td>0.0</td>\n      <td>2002-01-01</td>\n    </tr>\n  </tbody>\n</table>\n</div>",
      "text/plain": "   year state    month  number        date\n0  1998  Acre  Janeiro     0.0  1998-01-01\n1  1999  Acre  Janeiro     0.0  1999-01-01\n2  2000  Acre  Janeiro     0.0  2000-01-01\n3  2001  Acre  Janeiro     0.0  2001-01-01\n4  2002  Acre  Janeiro     0.0  2002-01-01"
     },
     "execution_count": 48,
     "metadata": {},
     "output_type": "execute_result"
    }
   ],
   "source": [
    "df.head()"
   ]
  },
  {
   "cell_type": "code",
   "execution_count": 51,
   "metadata": {},
   "outputs": [],
   "source": [
    "month_list_en = []\n",
    "month_list_pt = list(df.month)\n",
    "for mon in month_list_pt:\n",
    "    month_list_en.append(convert_months(mon))\n",
    "df['month_en'] = month_list_en"
   ]
  },
  {
   "cell_type": "code",
   "execution_count": 52,
   "metadata": {},
   "outputs": [
    {
     "data": {
      "text/html": "<div>\n<style scoped>\n    .dataframe tbody tr th:only-of-type {\n        vertical-align: middle;\n    }\n\n    .dataframe tbody tr th {\n        vertical-align: top;\n    }\n\n    .dataframe thead th {\n        text-align: right;\n    }\n</style>\n<table border=\"1\" class=\"dataframe\">\n  <thead>\n    <tr style=\"text-align: right;\">\n      <th></th>\n      <th>year</th>\n      <th>state</th>\n      <th>month</th>\n      <th>number</th>\n      <th>date</th>\n      <th>month_en</th>\n    </tr>\n  </thead>\n  <tbody>\n    <tr>\n      <td>0</td>\n      <td>1998</td>\n      <td>Acre</td>\n      <td>Janeiro</td>\n      <td>0.0</td>\n      <td>1998-01-01</td>\n      <td>1</td>\n    </tr>\n    <tr>\n      <td>1</td>\n      <td>1999</td>\n      <td>Acre</td>\n      <td>Janeiro</td>\n      <td>0.0</td>\n      <td>1999-01-01</td>\n      <td>1</td>\n    </tr>\n    <tr>\n      <td>2</td>\n      <td>2000</td>\n      <td>Acre</td>\n      <td>Janeiro</td>\n      <td>0.0</td>\n      <td>2000-01-01</td>\n      <td>1</td>\n    </tr>\n    <tr>\n      <td>3</td>\n      <td>2001</td>\n      <td>Acre</td>\n      <td>Janeiro</td>\n      <td>0.0</td>\n      <td>2001-01-01</td>\n      <td>1</td>\n    </tr>\n    <tr>\n      <td>4</td>\n      <td>2002</td>\n      <td>Acre</td>\n      <td>Janeiro</td>\n      <td>0.0</td>\n      <td>2002-01-01</td>\n      <td>1</td>\n    </tr>\n  </tbody>\n</table>\n</div>",
      "text/plain": "   year state    month  number        date  month_en\n0  1998  Acre  Janeiro     0.0  1998-01-01         1\n1  1999  Acre  Janeiro     0.0  1999-01-01         1\n2  2000  Acre  Janeiro     0.0  2000-01-01         1\n3  2001  Acre  Janeiro     0.0  2001-01-01         1\n4  2002  Acre  Janeiro     0.0  2002-01-01         1"
     },
     "execution_count": 52,
     "metadata": {},
     "output_type": "execute_result"
    }
   ],
   "source": [
    "df.head()\n",
    "# Now, we have a column with integer values representing months."
   ]
  },
  {
   "cell_type": "code",
   "execution_count": 65,
   "metadata": {},
   "outputs": [
    {
     "data": {
      "text/plain": "count    6454.000000\nmean        6.476139\nstd         3.441522\nmin         1.000000\n25%         3.000000\n50%         6.000000\n75%         9.000000\nmax        12.000000\nName: month_en, dtype: float64"
     },
     "execution_count": 65,
     "metadata": {},
     "output_type": "execute_result"
    }
   ],
   "source": [
    "df.month_en.describe()"
   ]
  },
  {
   "cell_type": "code",
   "execution_count": 67,
   "metadata": {},
   "outputs": [
    {
     "ename": "ValueError",
     "evalue": "to assemble mappings requires at least that [year, month, day] be specified: [month] is missing",
     "output_type": "error",
     "traceback": [
      "\u001b[1;31m---------------------------------------------------------------------------\u001b[0m",
      "\u001b[1;31mValueError\u001b[0m                                Traceback (most recent call last)",
      "\u001b[1;32m<ipython-input-67-78969222ce53>\u001b[0m in \u001b[0;36m<module>\u001b[1;34m\u001b[0m\n\u001b[1;32m----> 1\u001b[1;33m \u001b[0mdf\u001b[0m\u001b[1;33m[\u001b[0m\u001b[1;34m'date_new'\u001b[0m\u001b[1;33m]\u001b[0m \u001b[1;33m=\u001b[0m \u001b[0mpd\u001b[0m\u001b[1;33m.\u001b[0m\u001b[0mto_datetime\u001b[0m\u001b[1;33m(\u001b[0m\u001b[0mdf\u001b[0m\u001b[1;33m[\u001b[0m\u001b[1;33m[\u001b[0m\u001b[1;34m'year'\u001b[0m\u001b[1;33m,\u001b[0m \u001b[1;34m'month_en'\u001b[0m\u001b[1;33m]\u001b[0m\u001b[1;33m]\u001b[0m\u001b[1;33m.\u001b[0m\u001b[0massign\u001b[0m\u001b[1;33m(\u001b[0m\u001b[0mDay\u001b[0m\u001b[1;33m=\u001b[0m\u001b[1;36m1\u001b[0m\u001b[1;33m)\u001b[0m\u001b[1;33m)\u001b[0m\u001b[1;33m\u001b[0m\u001b[1;33m\u001b[0m\u001b[0m\n\u001b[0m",
      "\u001b[1;32mC:\\Apps\\Anaconda3\\lib\\site-packages\\pandas\\util\\_decorators.py\u001b[0m in \u001b[0;36mwrapper\u001b[1;34m(*args, **kwargs)\u001b[0m\n\u001b[0;32m    206\u001b[0m                 \u001b[1;32melse\u001b[0m\u001b[1;33m:\u001b[0m\u001b[1;33m\u001b[0m\u001b[1;33m\u001b[0m\u001b[0m\n\u001b[0;32m    207\u001b[0m                     \u001b[0mkwargs\u001b[0m\u001b[1;33m[\u001b[0m\u001b[0mnew_arg_name\u001b[0m\u001b[1;33m]\u001b[0m \u001b[1;33m=\u001b[0m \u001b[0mnew_arg_value\u001b[0m\u001b[1;33m\u001b[0m\u001b[1;33m\u001b[0m\u001b[0m\n\u001b[1;32m--> 208\u001b[1;33m             \u001b[1;32mreturn\u001b[0m \u001b[0mfunc\u001b[0m\u001b[1;33m(\u001b[0m\u001b[1;33m*\u001b[0m\u001b[0margs\u001b[0m\u001b[1;33m,\u001b[0m \u001b[1;33m**\u001b[0m\u001b[0mkwargs\u001b[0m\u001b[1;33m)\u001b[0m\u001b[1;33m\u001b[0m\u001b[1;33m\u001b[0m\u001b[0m\n\u001b[0m\u001b[0;32m    209\u001b[0m \u001b[1;33m\u001b[0m\u001b[0m\n\u001b[0;32m    210\u001b[0m         \u001b[1;32mreturn\u001b[0m \u001b[0mwrapper\u001b[0m\u001b[1;33m\u001b[0m\u001b[1;33m\u001b[0m\u001b[0m\n",
      "\u001b[1;32mC:\\Apps\\Anaconda3\\lib\\site-packages\\pandas\\core\\tools\\datetimes.py\u001b[0m in \u001b[0;36mto_datetime\u001b[1;34m(arg, errors, dayfirst, yearfirst, utc, box, format, exact, unit, infer_datetime_format, origin, cache)\u001b[0m\n\u001b[0;32m    779\u001b[0m             \u001b[0mresult\u001b[0m \u001b[1;33m=\u001b[0m \u001b[0marg\u001b[0m\u001b[1;33m.\u001b[0m\u001b[0m_constructor\u001b[0m\u001b[1;33m(\u001b[0m\u001b[0mvalues\u001b[0m\u001b[1;33m,\u001b[0m \u001b[0mindex\u001b[0m\u001b[1;33m=\u001b[0m\u001b[0marg\u001b[0m\u001b[1;33m.\u001b[0m\u001b[0mindex\u001b[0m\u001b[1;33m,\u001b[0m \u001b[0mname\u001b[0m\u001b[1;33m=\u001b[0m\u001b[0marg\u001b[0m\u001b[1;33m.\u001b[0m\u001b[0mname\u001b[0m\u001b[1;33m)\u001b[0m\u001b[1;33m\u001b[0m\u001b[1;33m\u001b[0m\u001b[0m\n\u001b[0;32m    780\u001b[0m     \u001b[1;32melif\u001b[0m \u001b[0misinstance\u001b[0m\u001b[1;33m(\u001b[0m\u001b[0marg\u001b[0m\u001b[1;33m,\u001b[0m \u001b[1;33m(\u001b[0m\u001b[0mABCDataFrame\u001b[0m\u001b[1;33m,\u001b[0m \u001b[0mabc\u001b[0m\u001b[1;33m.\u001b[0m\u001b[0mMutableMapping\u001b[0m\u001b[1;33m)\u001b[0m\u001b[1;33m)\u001b[0m\u001b[1;33m:\u001b[0m\u001b[1;33m\u001b[0m\u001b[1;33m\u001b[0m\u001b[0m\n\u001b[1;32m--> 781\u001b[1;33m         \u001b[0mresult\u001b[0m \u001b[1;33m=\u001b[0m \u001b[0m_assemble_from_unit_mappings\u001b[0m\u001b[1;33m(\u001b[0m\u001b[0marg\u001b[0m\u001b[1;33m,\u001b[0m \u001b[0merrors\u001b[0m\u001b[1;33m,\u001b[0m \u001b[0mbox\u001b[0m\u001b[1;33m,\u001b[0m \u001b[0mtz\u001b[0m\u001b[1;33m)\u001b[0m\u001b[1;33m\u001b[0m\u001b[1;33m\u001b[0m\u001b[0m\n\u001b[0m\u001b[0;32m    782\u001b[0m     \u001b[1;32melif\u001b[0m \u001b[0misinstance\u001b[0m\u001b[1;33m(\u001b[0m\u001b[0marg\u001b[0m\u001b[1;33m,\u001b[0m \u001b[0mABCIndexClass\u001b[0m\u001b[1;33m)\u001b[0m\u001b[1;33m:\u001b[0m\u001b[1;33m\u001b[0m\u001b[1;33m\u001b[0m\u001b[0m\n\u001b[0;32m    783\u001b[0m         \u001b[0mcache_array\u001b[0m \u001b[1;33m=\u001b[0m \u001b[0m_maybe_cache\u001b[0m\u001b[1;33m(\u001b[0m\u001b[0marg\u001b[0m\u001b[1;33m,\u001b[0m \u001b[0mformat\u001b[0m\u001b[1;33m,\u001b[0m \u001b[0mcache\u001b[0m\u001b[1;33m,\u001b[0m \u001b[0mconvert_listlike\u001b[0m\u001b[1;33m)\u001b[0m\u001b[1;33m\u001b[0m\u001b[1;33m\u001b[0m\u001b[0m\n",
      "\u001b[1;32mC:\\Apps\\Anaconda3\\lib\\site-packages\\pandas\\core\\tools\\datetimes.py\u001b[0m in \u001b[0;36m_assemble_from_unit_mappings\u001b[1;34m(arg, errors, box, tz)\u001b[0m\n\u001b[0;32m    875\u001b[0m             \u001b[1;34m\"to assemble mappings requires at least that \"\u001b[0m\u001b[1;33m\u001b[0m\u001b[1;33m\u001b[0m\u001b[0m\n\u001b[0;32m    876\u001b[0m             \u001b[1;34m\"[year, month, day] be specified: [{required}] \"\u001b[0m\u001b[1;33m\u001b[0m\u001b[1;33m\u001b[0m\u001b[0m\n\u001b[1;32m--> 877\u001b[1;33m             \u001b[1;34m\"is missing\"\u001b[0m\u001b[1;33m.\u001b[0m\u001b[0mformat\u001b[0m\u001b[1;33m(\u001b[0m\u001b[0mrequired\u001b[0m\u001b[1;33m=\u001b[0m\u001b[1;34m\",\"\u001b[0m\u001b[1;33m.\u001b[0m\u001b[0mjoin\u001b[0m\u001b[1;33m(\u001b[0m\u001b[0mreq\u001b[0m\u001b[1;33m)\u001b[0m\u001b[1;33m)\u001b[0m\u001b[1;33m\u001b[0m\u001b[1;33m\u001b[0m\u001b[0m\n\u001b[0m\u001b[0;32m    878\u001b[0m         )\n\u001b[0;32m    879\u001b[0m \u001b[1;33m\u001b[0m\u001b[0m\n",
      "\u001b[1;31mValueError\u001b[0m: to assemble mappings requires at least that [year, month, day] be specified: [month] is missing"
     ]
    }
   ],
   "source": [
    "df['date'] = pd.to_datetime(df[['year', 'month_en']].assign(Day=1))"
   ]
  },
  {
   "cell_type": "code",
   "execution_count": 34,
   "metadata": {},
   "outputs": [
    {
     "data": {
      "text/html": "<div>\n<style scoped>\n    .dataframe tbody tr th:only-of-type {\n        vertical-align: middle;\n    }\n\n    .dataframe tbody tr th {\n        vertical-align: top;\n    }\n\n    .dataframe thead th {\n        text-align: right;\n    }\n</style>\n<table border=\"1\" class=\"dataframe\">\n  <thead>\n    <tr style=\"text-align: right;\">\n      <th></th>\n      <th>year</th>\n      <th>state</th>\n      <th>month</th>\n      <th>number</th>\n      <th>date</th>\n      <th>Months</th>\n      <th>Datetime</th>\n    </tr>\n  </thead>\n  <tbody>\n    <tr>\n      <td>20</td>\n      <td>1998</td>\n      <td>Acre</td>\n      <td>Fevereiro</td>\n      <td>0.0</td>\n      <td>1998-01-01</td>\n      <td>2</td>\n      <td>1998-02-01</td>\n    </tr>\n    <tr>\n      <td>21</td>\n      <td>1999</td>\n      <td>Acre</td>\n      <td>Fevereiro</td>\n      <td>0.0</td>\n      <td>1999-01-01</td>\n      <td>2</td>\n      <td>1999-02-01</td>\n    </tr>\n    <tr>\n      <td>22</td>\n      <td>2000</td>\n      <td>Acre</td>\n      <td>Fevereiro</td>\n      <td>0.0</td>\n      <td>2000-01-01</td>\n      <td>2</td>\n      <td>2000-02-01</td>\n    </tr>\n    <tr>\n      <td>23</td>\n      <td>2001</td>\n      <td>Acre</td>\n      <td>Fevereiro</td>\n      <td>0.0</td>\n      <td>2001-01-01</td>\n      <td>2</td>\n      <td>2001-02-01</td>\n    </tr>\n    <tr>\n      <td>24</td>\n      <td>2002</td>\n      <td>Acre</td>\n      <td>Fevereiro</td>\n      <td>1.0</td>\n      <td>2002-01-01</td>\n      <td>2</td>\n      <td>2002-02-01</td>\n    </tr>\n  </tbody>\n</table>\n</div>",
      "text/plain": "    year state      month  number        date  Months   Datetime\n20  1998  Acre  Fevereiro     0.0  1998-01-01       2 1998-02-01\n21  1999  Acre  Fevereiro     0.0  1999-01-01       2 1999-02-01\n22  2000  Acre  Fevereiro     0.0  2000-01-01       2 2000-02-01\n23  2001  Acre  Fevereiro     0.0  2001-01-01       2 2001-02-01\n24  2002  Acre  Fevereiro     1.0  2002-01-01       2 2002-02-01"
     },
     "execution_count": 34,
     "metadata": {},
     "output_type": "execute_result"
    }
   ],
   "source": [
    "df[df.month_en != 1].head()"
   ]
  },
  {
   "cell_type": "code",
   "execution_count": null,
   "metadata": {},
   "outputs": [],
   "source": [
    "#Let's group by on the new date column"
   ]
  },
  {
   "cell_type": "code",
   "execution_count": 24,
   "metadata": {},
   "outputs": [],
   "source": [
    "# Resample the dataframe\n",
    "time_format = '%Y-%m-%d'\n",
    "datetime_series = pd.to_datetime(df.loc[:,'date'],format=time_format)"
   ]
  }
 ]
}